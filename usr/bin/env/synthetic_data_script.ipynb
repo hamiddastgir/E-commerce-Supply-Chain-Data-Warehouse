{
 "cells": [
  {
   "cell_type": "code",
   "execution_count": null,
   "id": "06e04ae6-4536-473b-9bf8-baf762e1bee2",
   "metadata": {},
   "outputs": [],
   "source": []
  }
 ],
 "metadata": {
  "kernelspec": {
   "display_name": "",
   "name": ""
  },
  "language_info": {
   "name": ""
  }
 },
 "nbformat": 4,
 "nbformat_minor": 5
}
